{
 "cells": [
  {
   "cell_type": "code",
   "execution_count": 1,
   "id": "94b4f7df",
   "metadata": {},
   "outputs": [
    {
     "name": "stdout",
     "output_type": "stream",
     "text": [
      "Enter a String:- i love data science\n",
      "Reversed string is:-  ecneics atad evol i\n"
     ]
    }
   ],
   "source": [
    "# 1. Write a Python program to reverse a string without using any built-in string reversal functions.\n",
    "\n",
    "def reverse(string):\n",
    "    \n",
    "    return string[::-1]\n",
    "\n",
    "string=input(\"Enter a String:- \")\n",
    "print(\"Reversed string is:- \", reverse(string))"
   ]
  },
  {
   "cell_type": "code",
   "execution_count": 3,
   "id": "9ea9adaf",
   "metadata": {},
   "outputs": [
    {
     "name": "stdout",
     "output_type": "stream",
     "text": [
      "Enter a string: madam\n",
      "The string is a palindrome.\n"
     ]
    }
   ],
   "source": [
    "# 2. Implement a function to check if a given string is a palindrome.\n",
    "\n",
    "def palindrome(string):\n",
    "    string = string.replace(\" \", \"\").lower()\n",
    "    \n",
    "    if string == string[::-1]:\n",
    "        return True\n",
    "    else:\n",
    "        return False\n",
    "\n",
    "string = input(\"Enter a string: \")\n",
    "if palindrome(string):\n",
    "    print(\"The string is a palindrome.\")\n",
    "else:\n",
    "    print(\"The string is not a palindrome.\")\n"
   ]
  },
  {
   "cell_type": "code",
   "execution_count": 4,
   "id": "435f5f1e",
   "metadata": {},
   "outputs": [
    {
     "name": "stdout",
     "output_type": "stream",
     "text": [
      "The largest element in the list is: 964\n"
     ]
    }
   ],
   "source": [
    "# 3. Write a program to find the largest element in a given list.\n",
    "\n",
    "def maximum(lst):\n",
    "    \n",
    "    if len(lst) == 0:\n",
    "        return None\n",
    "\n",
    "    largest = lst[0]\n",
    "\n",
    "    for num in lst:\n",
    "        if num >= largest:\n",
    "            largest = num\n",
    "\n",
    "    return largest\n",
    "\n",
    "lst = [10, 5, 8, 21, 14, 16, 26, 89, 67, 246, 964]\n",
    "largest_element = maximum(lst)\n",
    "print(\"The largest element in the list is:\", largest_element)"
   ]
  },
  {
   "cell_type": "code",
   "execution_count": 5,
   "id": "f228c569",
   "metadata": {},
   "outputs": [
    {
     "name": "stdout",
     "output_type": "stream",
     "text": [
      "Element Count: {1: 2, 3: 3, 5: 2, 7: 1}\n"
     ]
    }
   ],
   "source": [
    "# 4. Implement a function to count the occurrence of each element in a list.\n",
    "\n",
    "def count(lst):\n",
    "    occurrences = {}\n",
    "\n",
    "    for element in lst:\n",
    "        if element in occurrences:\n",
    "            occurrences[element] += 1\n",
    "        else:\n",
    "            occurrences[element] = 1\n",
    "\n",
    "    return occurrences\n",
    "\n",
    "input_list = [1, 3, 5, 3, 7, 3, 1, 5]\n",
    "element_count = count(input_list)\n",
    "print(\"Element Count:\", element_count)\n"
   ]
  },
  {
   "cell_type": "code",
   "execution_count": 6,
   "id": "736ec65f",
   "metadata": {},
   "outputs": [
    {
     "name": "stdout",
     "output_type": "stream",
     "text": [
      "The second largest number in the list is: 16\n"
     ]
    }
   ],
   "source": [
    "# 5. Write a Python program to find the second largest number in a list.\n",
    "\n",
    "def find_second_largest(lst):\n",
    "    if len(lst) < 2:\n",
    "        return None\n",
    "\n",
    "    largest = max(lst[0], lst[1])\n",
    "    second_largest = min(lst[0], lst[1])\n",
    "\n",
    "    for num in lst[2:]:\n",
    "        if num > largest:\n",
    "            second_largest = largest\n",
    "            largest = num\n",
    "        elif num > second_largest:\n",
    "            second_largest = num\n",
    "\n",
    "    return second_largest\n",
    "\n",
    "input_list = [10, 5, 8, 21, 14, 16]\n",
    "second_largest_number = find_second_largest(input_list)\n",
    "if second_largest_number is not None:\n",
    "    print(\"The second largest number in the list is:\", second_largest_number)\n",
    "else:\n",
    "    print(\"There is no second largest number in the list.\")\n"
   ]
  },
  {
   "cell_type": "code",
   "execution_count": 7,
   "id": "4339f221",
   "metadata": {},
   "outputs": [
    {
     "name": "stdout",
     "output_type": "stream",
     "text": [
      "List with Duplicate Elements: [1, 3, 5, 3, 7, 1, 5]\n",
      "List with Unique Elements: [1, 3, 5, 7]\n"
     ]
    }
   ],
   "source": [
    "# 6. Implement a function to remove duplicate elements from a list.\n",
    "\n",
    "def remove_duplicates(lst):\n",
    "    unique_list = []\n",
    "\n",
    "    for element in lst:\n",
    "        if element not in unique_list:\n",
    "            unique_list.append(element)\n",
    "\n",
    "    return unique_list\n",
    "\n",
    "input_list = [1, 3, 5, 3, 7, 1, 5]\n",
    "unique_elements = remove_duplicates(input_list)\n",
    "print(\"List with Duplicate Elements:\", input_list)\n",
    "print(\"List with Unique Elements:\", unique_elements)\n"
   ]
  },
  {
   "cell_type": "code",
   "execution_count": 8,
   "id": "5680b9a6",
   "metadata": {},
   "outputs": [
    {
     "name": "stdout",
     "output_type": "stream",
     "text": [
      "Enter a number: 6\n",
      "The factorial of 6 is 720\n"
     ]
    }
   ],
   "source": [
    "# 7. Write a program to calculate the factorial of a given number.\n",
    "\n",
    "def factorial(n):\n",
    "    if n < 0:\n",
    "        return None\n",
    "\n",
    "    result = 1\n",
    "    for i in range(1, n+1):\n",
    "        result *= i\n",
    "\n",
    "    return result\n",
    "\n",
    "number = int(input(\"Enter a number: \"))\n",
    "factorial_result = factorial(number)\n",
    "\n",
    "if factorial_result is not None:\n",
    "    print(\"The factorial of\", number, \"is\", factorial_result)\n",
    "else:\n",
    "    print(\"Factorial is not defined for negative numbers.\")\n"
   ]
  },
  {
   "cell_type": "code",
   "execution_count": 10,
   "id": "2d698667",
   "metadata": {},
   "outputs": [
    {
     "name": "stdout",
     "output_type": "stream",
     "text": [
      "Enter a number: 21672\n",
      "21672 is not a prime number.\n"
     ]
    }
   ],
   "source": [
    "# 8. Implement a function to check if a given number is prime.\n",
    "\n",
    "def prime(number):\n",
    "    if number < 2:\n",
    "        return False\n",
    "\n",
    "    for i in range(2, int(number ** 0.5) + 1):\n",
    "        if number % i == 0:\n",
    "            return False\n",
    "\n",
    "    return True\n",
    "\n",
    "number = int(input(\"Enter a number: \"))\n",
    "if prime(number):\n",
    "    print(number, \"is a prime number.\")\n",
    "else:\n",
    "    print(number, \"is not a prime number.\")\n"
   ]
  },
  {
   "cell_type": "code",
   "execution_count": 11,
   "id": "27456eb9",
   "metadata": {},
   "outputs": [
    {
     "name": "stdout",
     "output_type": "stream",
     "text": [
      "Original List: [5, 8, 10, 14, 16, 21]\n",
      "Sorted List (Ascending Order): [5, 8, 10, 14, 16, 21]\n"
     ]
    }
   ],
   "source": [
    "# 9. Write a Python program to sort a list of integers in ascending order.\n",
    "\n",
    "def sort_list(lst):\n",
    "    n = len(lst)\n",
    "\n",
    "    for i in range(n):\n",
    "        for j in range(0, n - i - 1):\n",
    "            if lst[j] > lst[j + 1]:\n",
    "                lst[j], lst[j + 1] = lst[j + 1], lst[j]\n",
    "\n",
    "    return lst\n",
    "\n",
    "input_list = [10, 5, 8, 21, 14, 16]\n",
    "sorted_list = sort_list(input_list)\n",
    "print(\"Original List:\", input_list)\n",
    "print(\"Sorted List (Ascending Order):\", sorted_list)\n"
   ]
  },
  {
   "cell_type": "code",
   "execution_count": 13,
   "id": "fa7412cc",
   "metadata": {},
   "outputs": [
    {
     "name": "stdout",
     "output_type": "stream",
     "text": [
      "List: [138, 65, 8, 27, 14, 16]\n",
      "Sum of Numbers: 268\n"
     ]
    }
   ],
   "source": [
    "# 10. Implement a function to find the sum of all numbers in a list.\n",
    "\n",
    "def sum_of_numbers(lst):\n",
    "    sum = 0\n",
    "\n",
    "    for num in lst:\n",
    "        sum += num\n",
    "\n",
    "    return sum\n",
    "\n",
    "input_list = [138, 65, 8, 27, 14, 16]\n",
    "total_sum = sum_of_numbers(input_list)\n",
    "print(\"List:\", input_list)\n",
    "print(\"Sum of Numbers:\", total_sum)\n"
   ]
  },
  {
   "cell_type": "code",
   "execution_count": 14,
   "id": "4c46010e",
   "metadata": {},
   "outputs": [
    {
     "name": "stdout",
     "output_type": "stream",
     "text": [
      "List 1: [1, 2, 3, 4, 5]\n",
      "List 2: [4, 5, 6, 7, 8]\n",
      "Common Elements: [4, 5]\n"
     ]
    }
   ],
   "source": [
    "# 11. Write a program to find the common elements between two lists.\n",
    "\n",
    "def find_common_elements(list1, list2):\n",
    "    common_elements = []\n",
    "\n",
    "    for element in list1:\n",
    "        if element in list2 and element not in common_elements:\n",
    "            common_elements.append(element)\n",
    "\n",
    "    return common_elements\n",
    "\n",
    "list1 = [1, 2, 3, 4, 5]\n",
    "list2 = [4, 5, 6, 7, 8]\n",
    "common_elements = find_common_elements(list1, list2)\n",
    "print(\"List 1:\", list1)\n",
    "print(\"List 2:\", list2)\n",
    "print(\"Common Elements:\", common_elements)\n"
   ]
  },
  {
   "cell_type": "code",
   "execution_count": 17,
   "id": "87bd4a95",
   "metadata": {},
   "outputs": [
    {
     "name": "stdout",
     "output_type": "stream",
     "text": [
      "whistle and missile are not anagrams.\n"
     ]
    }
   ],
   "source": [
    "# 12. Implement a function to check if a given string is an anagram of another string.\n",
    "\n",
    "def is_anagram(string1, string2):\n",
    "    string1 = string1.lower().replace(\" \", \"\")\n",
    "    string2 = string2.lower().replace(\" \", \"\")\n",
    "\n",
    "    if len(string1) != len(string2):\n",
    "        return False\n",
    "\n",
    "    sorted_string1 = sorted(list(string1))\n",
    "    sorted_string2 = sorted(list(string2))\n",
    "\n",
    "    if sorted_string1 == sorted_string2:\n",
    "        return True\n",
    "    else:\n",
    "        return False\n",
    "\n",
    "word1 = \"whistle\"\n",
    "word2 = \"missile\"\n",
    "\n",
    "if is_anagram(word1, word2):\n",
    "    print(word1, \"and\", word2, \"are anagrams.\")\n",
    "else:\n",
    "    print(word1, \"and\", word2, \"are not anagrams.\")\n"
   ]
  },
  {
   "cell_type": "code",
   "execution_count": 18,
   "id": "226273d5",
   "metadata": {},
   "outputs": [
    {
     "name": "stdout",
     "output_type": "stream",
     "text": [
      "Permutations of abc: ['abc', 'acb', 'bac', 'bca', 'cab', 'cba']\n"
     ]
    }
   ],
   "source": [
    "# 13. Write a Python program to generate all permutations of a given string.\n",
    "\n",
    "def permutations(string):\n",
    "    if len(string) == 0:\n",
    "        return []\n",
    "\n",
    "    if len(string) == 1:\n",
    "        return [string]\n",
    "\n",
    "    perms = []\n",
    "\n",
    "    for i in range(len(string)):\n",
    "        current_char = string[i]\n",
    "\n",
    "        remaining_chars = string[:i] + string[i+1:]\n",
    "        subperms = permutations(remaining_chars)\n",
    "\n",
    "        for subperm in subperms:\n",
    "            perms.append(current_char + subperm)\n",
    "\n",
    "    return perms\n",
    "\n",
    "word = \"abc\"\n",
    "permutation_list = permutations(word)\n",
    "print(\"Permutations of\", word + \":\", permutation_list)\n"
   ]
  },
  {
   "cell_type": "code",
   "execution_count": 19,
   "id": "7de6af7e",
   "metadata": {},
   "outputs": [
    {
     "name": "stdout",
     "output_type": "stream",
     "text": [
      "Fibonacci Sequence (10 terms): [0, 1, 1, 2, 3, 5, 8, 13, 21, 34]\n"
     ]
    }
   ],
   "source": [
    "# 14. Implement a function to calculate the Fibonacci sequence up to a given number of terms.\n",
    "\n",
    "def fibonacci(n):\n",
    "    fib_sequence = []\n",
    "\n",
    "    fib_1, fib_2 = 0, 1\n",
    "\n",
    "    if n >= 1:\n",
    "        fib_sequence.append(fib_1)\n",
    "    if n >= 2:\n",
    "        fib_sequence.append(fib_2)\n",
    "\n",
    "    for _ in range(2, n):\n",
    "        fib_next = fib_1 + fib_2\n",
    "        fib_sequence.append(fib_next)\n",
    "        fib_1, fib_2 = fib_2, fib_next\n",
    "\n",
    "    return fib_sequence\n",
    "\n",
    "num_terms = 10\n",
    "fibonacci_sequence = fibonacci(num_terms)\n",
    "print(\"Fibonacci Sequence ({} terms):\".format(num_terms), fibonacci_sequence)\n"
   ]
  },
  {
   "cell_type": "code",
   "execution_count": 20,
   "id": "8329949a",
   "metadata": {},
   "outputs": [
    {
     "name": "stdout",
     "output_type": "stream",
     "text": [
      "List: [7, 2, 9, 4, 5, 1, 6, 3, 8]\n",
      "Median: 5\n"
     ]
    }
   ],
   "source": [
    "# 15. Write a program to find the median of a list of numbers.\n",
    "\n",
    "def find_median(numbers):\n",
    "    sorted_numbers = sorted(numbers)\n",
    "    n = len(sorted_numbers)\n",
    "\n",
    "    if n % 2 == 0:\n",
    "        mid1 = n // 2\n",
    "        mid2 = mid1 - 1\n",
    "        median = (sorted_numbers[mid1] + sorted_numbers[mid2]) / 2\n",
    "    else:\n",
    "        mid = n // 2\n",
    "        median = sorted_numbers[mid]\n",
    "\n",
    "    return median\n",
    "\n",
    "number_list = [7, 2, 9, 4, 5, 1, 6, 3, 8]\n",
    "median = find_median(number_list)\n",
    "print(\"List:\", number_list)\n",
    "print(\"Median:\", median)\n"
   ]
  },
  {
   "cell_type": "code",
   "execution_count": 22,
   "id": "d8ae2118",
   "metadata": {},
   "outputs": [
    {
     "name": "stdout",
     "output_type": "stream",
     "text": [
      "True\n",
      "False\n"
     ]
    }
   ],
   "source": [
    "# 16. Implement a function to check if a given list is sorted in non-decreasing order.\n",
    "\n",
    "def is_sorted(lst):\n",
    "    return all(lst[i] <= lst[i + 1] for i in range(len(lst) - 1))\n",
    "\n",
    "my_list = [1, 2, 3, 4, 5]\n",
    "print(is_sorted(my_list))  \n",
    "\n",
    "another_list = [5, 3, 2, 1]\n",
    "print(is_sorted(another_list)) "
   ]
  },
  {
   "cell_type": "code",
   "execution_count": 26,
   "id": "34b724fa",
   "metadata": {},
   "outputs": [
    {
     "name": "stdout",
     "output_type": "stream",
     "text": [
      "[4, 5]\n"
     ]
    }
   ],
   "source": [
    "# 17. Write a Python program to find the intersection of two lists.\n",
    "\n",
    "def find_intersection(list1, list2):\n",
    "    intersection = set(list1) & set(list2)\n",
    "    return list(intersection)\n",
    "\n",
    "list1 = [1, 2, 3, 4, 5]\n",
    "list2 = [4, 5, 6, 7, 8]\n",
    "intersection = find_intersection(list1, list2)\n",
    "print(intersection)  \n"
   ]
  },
  {
   "cell_type": "code",
   "execution_count": 27,
   "id": "3d93c347",
   "metadata": {},
   "outputs": [
    {
     "name": "stdout",
     "output_type": "stream",
     "text": [
      "6\n"
     ]
    }
   ],
   "source": [
    "# 18. Implement a function to find the maximum subarray sum in a given list.\n",
    "\n",
    "def max_subarray_sum(lst):\n",
    "    current_sum = max_sum = lst[0]\n",
    "    for num in lst[1:]:\n",
    "        current_sum = max(num, current_sum + num)\n",
    "        max_sum = max(max_sum, current_sum)\n",
    "    return max_sum\n",
    "\n",
    "my_list = [-2, 1, -3, 4, -1, 2, 1, -5, 4]\n",
    "max_sum = max_subarray_sum(my_list)\n",
    "print(max_sum)\n"
   ]
  },
  {
   "cell_type": "code",
   "execution_count": 28,
   "id": "f90d8f51",
   "metadata": {},
   "outputs": [
    {
     "name": "stdout",
     "output_type": "stream",
     "text": [
      "Hll, Wrld!\n"
     ]
    }
   ],
   "source": [
    "# 19. Write a program to remove all vowels from a given string.\n",
    "\n",
    "def remove_vowels(string):\n",
    "    vowels = \"aeiouAEIOU\"\n",
    "    return ''.join(char for char in string if char not in vowels)\n",
    "\n",
    "my_string = \"Hello, World!\"\n",
    "result = remove_vowels(my_string)\n",
    "print(result)  "
   ]
  },
  {
   "cell_type": "code",
   "execution_count": 30,
   "id": "585cc0e4",
   "metadata": {},
   "outputs": [
    {
     "name": "stdout",
     "output_type": "stream",
     "text": [
      "sentence a is This world! Hello,\n"
     ]
    }
   ],
   "source": [
    "# 20. Implement a function to reverse the order of words in a given sentence.\n",
    "\n",
    "def reverse_words(sentence):\n",
    "    words = sentence.split()\n",
    "    reversed_words = words[::-1]\n",
    "    reversed_sentence = ' '.join(reversed_words)\n",
    "    return reversed_sentence\n",
    "\n",
    "my_sentence = \"Hello, world! This is a sentence\"\n",
    "reversed_sentence = reverse_words(my_sentence)\n",
    "print(reversed_sentence)  "
   ]
  },
  {
   "cell_type": "code",
   "execution_count": 31,
   "id": "168bc291",
   "metadata": {},
   "outputs": [
    {
     "name": "stdout",
     "output_type": "stream",
     "text": [
      "True\n",
      "False\n"
     ]
    }
   ],
   "source": [
    "# 21. Write a Python program to check if two strings are anagrams of each other.\n",
    "\n",
    "def are_anagrams(str1, str2):\n",
    "\n",
    "    str1 = str1.replace(\" \", \"\").lower()\n",
    "    str2 = str2.replace(\" \", \"\").lower()\n",
    "\n",
    "    return sorted(str1) == sorted(str2)\n",
    "\n",
    "string1 = \"listen\"\n",
    "string2 = \"silent\"\n",
    "print(are_anagrams(string1, string2)) \n",
    "\n",
    "string3 = \"hello\"\n",
    "string4 = \"world\"\n",
    "print(are_anagrams(string3, string4))  "
   ]
  },
  {
   "cell_type": "code",
   "execution_count": 32,
   "id": "3581224b",
   "metadata": {},
   "outputs": [
    {
     "name": "stdout",
     "output_type": "stream",
     "text": [
      "c\n"
     ]
    }
   ],
   "source": [
    "# 22. Implement a function to find the first non-repeating character in a string.\n",
    "\n",
    "def first_non_repeating_char(string):\n",
    "    char_count = {}\n",
    "    \n",
    "    for char in string:\n",
    "        char_count[char] = char_count.get(char, 0) + 1\n",
    "    \n",
    "    for char in string:\n",
    "        if char_count[char] == 1:\n",
    "            return char\n",
    "    \n",
    "    return None\n",
    "\n",
    "my_string = \"abracadabra\"\n",
    "result = first_non_repeating_char(my_string)\n",
    "print(result)  "
   ]
  },
  {
   "cell_type": "code",
   "execution_count": 33,
   "id": "512004ed",
   "metadata": {},
   "outputs": [
    {
     "name": "stdout",
     "output_type": "stream",
     "text": [
      "[2, 2, 3, 3]\n"
     ]
    }
   ],
   "source": [
    "# 23. Write a program to find the prime factors of a given number.\n",
    "\n",
    "def find_prime_factors(number):\n",
    "    prime_factors = []\n",
    "    divisor = 2\n",
    "\n",
    "    while divisor <= number:\n",
    "        if number % divisor == 0:\n",
    "            prime_factors.append(divisor)\n",
    "            number = number / divisor\n",
    "        else:\n",
    "            divisor += 1\n",
    "\n",
    "    return prime_factors\n",
    "\n",
    "number = 36\n",
    "factors = find_prime_factors(number)\n",
    "print(factors)"
   ]
  },
  {
   "cell_type": "code",
   "execution_count": 34,
   "id": "e6958780",
   "metadata": {},
   "outputs": [
    {
     "name": "stdout",
     "output_type": "stream",
     "text": [
      "True\n",
      "False\n"
     ]
    }
   ],
   "source": [
    "# 24. Implement a function to check if a given number is a power of two.\n",
    "\n",
    "def is_power_of_two(number):\n",
    "    if number <= 0:\n",
    "        return False\n",
    "    return (number & (number - 1)) == 0\n",
    "\n",
    "num1 = 8\n",
    "print(is_power_of_two(num1))  \n",
    "\n",
    "num2 = 10\n",
    "print(is_power_of_two(num2))  "
   ]
  },
  {
   "cell_type": "code",
   "execution_count": 35,
   "id": "b64b2cd5",
   "metadata": {},
   "outputs": [
    {
     "name": "stdout",
     "output_type": "stream",
     "text": [
      "[1, 2, 3, 4, 5, 6, 7, 8]\n"
     ]
    }
   ],
   "source": [
    "# 25. Write a Python program to merge two sorted lists into a single sorted list.\n",
    "\n",
    "def merge_sorted_lists(list1, list2):\n",
    "    merged_list = []\n",
    "    i = j = 0\n",
    "\n",
    "    while i < len(list1) and j < len(list2):\n",
    "        if list1[i] <= list2[j]:\n",
    "            merged_list.append(list1[i])\n",
    "            i += 1\n",
    "        else:\n",
    "            merged_list.append(list2[j])\n",
    "            j += 1\n",
    "\n",
    "    while i < len(list1):\n",
    "        merged_list.append(list1[i])\n",
    "        i += 1\n",
    "\n",
    "    while j < len(list2):\n",
    "        merged_list.append(list2[j])\n",
    "        j += 1\n",
    "\n",
    "    return merged_list\n",
    "\n",
    "list1 = [1, 3, 5, 7]\n",
    "list2 = [2, 4, 6, 8]\n",
    "merged = merge_sorted_lists(list1, list2)\n",
    "print(merged) "
   ]
  },
  {
   "cell_type": "code",
   "execution_count": 36,
   "id": "c30fad18",
   "metadata": {},
   "outputs": [
    {
     "name": "stdout",
     "output_type": "stream",
     "text": [
      "[2, 6]\n"
     ]
    }
   ],
   "source": [
    "# 26. Implement a function to find the mode of a list of numbers.\n",
    "\n",
    "from collections import Counter\n",
    "\n",
    "def find_mode(numbers):\n",
    "    number_counts = Counter(numbers)\n",
    "\n",
    "    max_count = max(number_counts.values())\n",
    "    modes = [num for num, count in number_counts.items() if count == max_count]\n",
    "\n",
    "    return modes\n",
    "\n",
    "my_list = [1, 2, 3, 2, 2, 4, 5, 5, 6, 6, 6]\n",
    "modes = find_mode(my_list)\n",
    "print(modes)  "
   ]
  },
  {
   "cell_type": "code",
   "execution_count": 37,
   "id": "99a2011c",
   "metadata": {},
   "outputs": [
    {
     "name": "stdout",
     "output_type": "stream",
     "text": [
      "6\n"
     ]
    }
   ],
   "source": [
    "# 27. Write a program to find the greatest common divisor (GCD) of two numbers.\n",
    "\n",
    "def gcd(a, b):\n",
    "    while b != 0:\n",
    "        temp = b\n",
    "        b = a % b\n",
    "        a = temp\n",
    "    return a\n",
    "\n",
    "num1 = 48\n",
    "num2 = 18\n",
    "result = gcd(num1, num2)\n",
    "print(result) "
   ]
  },
  {
   "cell_type": "code",
   "execution_count": 38,
   "id": "c4783bf6",
   "metadata": {},
   "outputs": [
    {
     "name": "stdout",
     "output_type": "stream",
     "text": [
      "5.0\n"
     ]
    }
   ],
   "source": [
    "# 28. Implement a function to calculate the square root of a given number.\n",
    "\n",
    "def square_root(number):\n",
    "    if number < 0:\n",
    "        raise ValueError(\"Square root is not defined for negative numbers.\")\n",
    "    \n",
    "    if number == 0:\n",
    "        return 0\n",
    "    \n",
    "    guess = number / 2\n",
    "    \n",
    "    while True:\n",
    "        new_guess = (guess + number / guess) / 2\n",
    "        if abs(new_guess - guess) < 1e-9:\n",
    "            return new_guess\n",
    "        guess = new_guess\n",
    "\n",
    "number = 25\n",
    "result = square_root(number)\n",
    "print(result) \n"
   ]
  },
  {
   "cell_type": "code",
   "execution_count": 39,
   "id": "76bf2bd5",
   "metadata": {},
   "outputs": [
    {
     "name": "stdout",
     "output_type": "stream",
     "text": [
      "True\n"
     ]
    }
   ],
   "source": [
    "# 29. Write a Python program to check if a given string is a valid palindrome ignoring non-alphanumeric characters.\n",
    "\n",
    "import re\n",
    "\n",
    "def is_valid_palindrome(string):\n",
    "    alphanumeric_string = re.sub(r'[^a-zA-Z0-9]', '', string).lower()\n",
    "    \n",
    "    return alphanumeric_string == alphanumeric_string[::-1]\n",
    "\n",
    "my_string = \"A man, a plan, a canal: Panama\"\n",
    "result = is_valid_palindrome(my_string)\n",
    "print(result)"
   ]
  },
  {
   "cell_type": "code",
   "execution_count": 40,
   "id": "60f7364c",
   "metadata": {},
   "outputs": [
    {
     "name": "stdout",
     "output_type": "stream",
     "text": [
      "1\n"
     ]
    }
   ],
   "source": [
    "# 30. Implement a function to find the minimum element in a rotated sorted list.\n",
    "\n",
    "def find_minimum(rotated_list):\n",
    "    left = 0\n",
    "    right = len(rotated_list) - 1\n",
    "\n",
    "    if rotated_list[right] >= rotated_list[left]:\n",
    "        return rotated_list[left]\n",
    "\n",
    "    while left < right:\n",
    "        mid = (left + right) // 2\n",
    "\n",
    "        if rotated_list[mid] > rotated_list[mid + 1]:\n",
    "            return rotated_list[mid + 1]\n",
    "\n",
    "        if rotated_list[mid - 1] > rotated_list[mid]:\n",
    "            return rotated_list[mid]\n",
    "\n",
    "        if rotated_list[mid] > rotated_list[left]:\n",
    "            left = mid + 1\n",
    "        else:\n",
    "            right = mid - 1\n",
    "\n",
    "    return None\n",
    "\n",
    "my_list = [4, 5, 6, 7, 1, 2, 3]\n",
    "minimum = find_minimum(my_list)\n",
    "print(minimum)  "
   ]
  },
  {
   "cell_type": "code",
   "execution_count": 41,
   "id": "feb96b22",
   "metadata": {},
   "outputs": [
    {
     "name": "stdout",
     "output_type": "stream",
     "text": [
      "30\n"
     ]
    }
   ],
   "source": [
    "# 31. Write a program to find the sum of all even numbers in a list.\n",
    "\n",
    "def sum_even_numbers(numbers):\n",
    "    sum_even = 0\n",
    "    for num in numbers:\n",
    "        if num % 2 == 0:\n",
    "            sum_even += num\n",
    "    return sum_even\n",
    "\n",
    "my_list = [1, 2, 3, 4, 5, 6, 7, 8, 9, 10]\n",
    "sum_even = sum_even_numbers(my_list)\n",
    "print(sum_even) "
   ]
  },
  {
   "cell_type": "code",
   "execution_count": 42,
   "id": "4e825144",
   "metadata": {},
   "outputs": [
    {
     "name": "stdout",
     "output_type": "stream",
     "text": [
      "8\n",
      "0.04\n"
     ]
    }
   ],
   "source": [
    "# 32. Implement a function to calculate the power of a number using recursion.\n",
    "\n",
    "def power(base, exponent):\n",
    "    if exponent == 0:\n",
    "        return 1\n",
    "    \n",
    "    if exponent > 0:\n",
    "        return base * power(base, exponent - 1)\n",
    "    else:\n",
    "        return 1 / (base * power(base, -exponent - 1))\n",
    "\n",
    "base = 2\n",
    "exponent = 3\n",
    "result = power(base, exponent)\n",
    "print(result) \n",
    "\n",
    "base = 5\n",
    "exponent = -2\n",
    "result = power(base, exponent)\n",
    "print(result) "
   ]
  },
  {
   "cell_type": "code",
   "execution_count": 43,
   "id": "0dad5351",
   "metadata": {},
   "outputs": [
    {
     "name": "stdout",
     "output_type": "stream",
     "text": [
      "[2, 1, 3, 4, 5]\n"
     ]
    }
   ],
   "source": [
    "# 33. Write a Python program to remove duplicates from a list while preserving the order.\n",
    "\n",
    "def remove_duplicates(lst):\n",
    "    seen = set()\n",
    "    result = []\n",
    "    for item in lst:\n",
    "        if item not in seen:\n",
    "            seen.add(item)\n",
    "            result.append(item)\n",
    "    return result\n",
    "\n",
    "my_list = [2, 1, 3, 2, 4, 3, 1, 5]\n",
    "result = remove_duplicates(my_list)\n",
    "print(result)"
   ]
  },
  {
   "cell_type": "code",
   "execution_count": 44,
   "id": "2e6b58bf",
   "metadata": {},
   "outputs": [
    {
     "name": "stdout",
     "output_type": "stream",
     "text": [
      "fl\n"
     ]
    }
   ],
   "source": [
    "# 34. Implement a function to find the longest common prefix among a list of strings.\n",
    "\n",
    "def longest_common_prefix(strings):\n",
    "    if not strings:\n",
    "        return \"\"\n",
    "\n",
    "    common_prefix = strings[0]\n",
    "    for string in strings[1:]:\n",
    "        i = 0\n",
    "        while i < len(common_prefix) and i < len(string) and common_prefix[i] == string[i]:\n",
    "            i += 1\n",
    "        common_prefix = common_prefix[:i]\n",
    "\n",
    "    return common_prefix\n",
    "\n",
    "my_strings = [\"flower\", \"flow\", \"flight\"]\n",
    "result = longest_common_prefix(my_strings)\n",
    "print(result) "
   ]
  },
  {
   "cell_type": "code",
   "execution_count": 45,
   "id": "48fc9109",
   "metadata": {},
   "outputs": [
    {
     "name": "stdout",
     "output_type": "stream",
     "text": [
      "True\n",
      "False\n"
     ]
    }
   ],
   "source": [
    "# 35. Write a program to check if a given number is a perfect square.\n",
    "\n",
    "def is_perfect_square(num):\n",
    "    if num < 0:\n",
    "        return False\n",
    "\n",
    "    sqrt = int(num ** 0.5)\n",
    "\n",
    "    return sqrt * sqrt == num\n",
    "\n",
    "\n",
    "my_number = 16\n",
    "result = is_perfect_square(my_number)\n",
    "print(result)  \n",
    "\n",
    "my_number = 23\n",
    "result = is_perfect_square(my_number)\n",
    "print(result) "
   ]
  },
  {
   "cell_type": "code",
   "execution_count": 46,
   "id": "78d92714",
   "metadata": {},
   "outputs": [
    {
     "name": "stdout",
     "output_type": "stream",
     "text": [
      "120\n"
     ]
    }
   ],
   "source": [
    "# 36. Implement a function to calculate the product of all elements in a list.\n",
    "\n",
    "def calculate_product(numbers):\n",
    "    product = 1\n",
    "    for num in numbers:\n",
    "        product *= num\n",
    "    return product\n",
    "\n",
    "my_list = [2, 3, 4, 5]\n",
    "product = calculate_product(my_list)\n",
    "print(product) "
   ]
  },
  {
   "cell_type": "code",
   "execution_count": 47,
   "id": "1ecbaad8",
   "metadata": {},
   "outputs": [
    {
     "name": "stdout",
     "output_type": "stream",
     "text": [
      "you? are how Hello,\n"
     ]
    }
   ],
   "source": [
    "# 37. Write a Python program to reverse the order of words in a sentence while preserving the word order.\n",
    "\n",
    "def reverse_words(sentence):\n",
    "    words = sentence.split()  \n",
    "    reversed_words = words[::-1]  \n",
    "    reversed_sentence = ' '.join(reversed_words) \n",
    "    return reversed_sentence\n",
    "\n",
    "my_sentence = \"Hello, how are you?\"\n",
    "reversed_sentence = reverse_words(my_sentence)\n",
    "print(reversed_sentence) "
   ]
  },
  {
   "cell_type": "code",
   "execution_count": 48,
   "id": "66797b0c",
   "metadata": {},
   "outputs": [
    {
     "name": "stdout",
     "output_type": "stream",
     "text": [
      "4\n"
     ]
    }
   ],
   "source": [
    "# 38. Implement a function to find the missing number in a given list of consecutive numbers.\n",
    "\n",
    "def find_missing_number(numbers):\n",
    "    n = len(numbers) + 1\n",
    "    total_sum = (n * (n + 1)) // 2\n",
    "    actual_sum = sum(numbers)\n",
    "    missing_number = total_sum - actual_sum\n",
    "    return missing_number\n",
    "\n",
    "my_list = [1, 2, 3, 5, 6]\n",
    "missing_number = find_missing_number(my_list)\n",
    "print(missing_number) "
   ]
  },
  {
   "cell_type": "code",
   "execution_count": 49,
   "id": "34ee9184",
   "metadata": {},
   "outputs": [
    {
     "name": "stdout",
     "output_type": "stream",
     "text": [
      "15\n"
     ]
    }
   ],
   "source": [
    "# 39. Write a program to find the sum of digits of a given number.\n",
    "\n",
    "def sum_of_digits(number):\n",
    "    total_sum = 0\n",
    "    while number > 0:\n",
    "        digit = number % 10\n",
    "        total_sum += digit\n",
    "        number //= 10\n",
    "    return total_sum\n",
    "\n",
    "my_number = 12345\n",
    "digit_sum = sum_of_digits(my_number)\n",
    "print(digit_sum)  "
   ]
  },
  {
   "cell_type": "code",
   "execution_count": 1,
   "id": "f7f7d829",
   "metadata": {},
   "outputs": [
    {
     "name": "stdout",
     "output_type": "stream",
     "text": [
      "True\n",
      "False\n"
     ]
    }
   ],
   "source": [
    "# 40. Implement a function to check if a given string is a valid palindrome considering case sensitivity.\n",
    "\n",
    "def is_valid_palindrome(string):\n",
    "    cleaned_string = ''.join(c.lower() for c in string if c.isalnum())\n",
    "\n",
    "    return cleaned_string == cleaned_string[::-1]\n",
    "\n",
    "\n",
    "my_string = \"A man, a plan, a canal: Panama\"\n",
    "result = is_valid_palindrome(my_string)\n",
    "print(result) \n",
    "\n",
    "my_string = \"Hello, world!\"\n",
    "result = is_valid_palindrome(my_string)\n",
    "print(result) \n"
   ]
  },
  {
   "cell_type": "code",
   "execution_count": 2,
   "id": "76d4e8d3",
   "metadata": {},
   "outputs": [
    {
     "name": "stdout",
     "output_type": "stream",
     "text": [
      "2\n",
      "3\n"
     ]
    }
   ],
   "source": [
    "# 41. Write a Python program to find the smallest missing positive integer in a list.\n",
    "\n",
    "def find_smallest_missing_positive(nums):\n",
    "    n = len(nums)\n",
    "\n",
    "    for i in range(n):\n",
    "        if nums[i] <= 0 or nums[i] > n:\n",
    "            nums[i] = n + 1\n",
    "\n",
    "   \n",
    "    for i in range(n):\n",
    "        num = abs(nums[i])\n",
    "        if num <= n:\n",
    "            nums[num - 1] = -abs(nums[num - 1])\n",
    "\n",
    "    for i in range(n):\n",
    "        if nums[i] > 0:\n",
    "            return i + 1\n",
    "\n",
    "    return n + 1\n",
    "\n",
    "my_list = [3, 4, -1, 1]\n",
    "result = find_smallest_missing_positive(my_list)\n",
    "print(result)  \n",
    "\n",
    "my_list = [1, 2, 0]\n",
    "result = find_smallest_missing_positive(my_list)\n",
    "print(result) \n"
   ]
  },
  {
   "cell_type": "code",
   "execution_count": 3,
   "id": "1e9810d7",
   "metadata": {},
   "outputs": [
    {
     "name": "stdout",
     "output_type": "stream",
     "text": [
      "bab\n",
      "bb\n"
     ]
    }
   ],
   "source": [
    "# 42. Implement a function to find the longest palindrome substring in a given string.\n",
    "\n",
    "def longest_palindrome_substring(string):\n",
    "    n = len(string)\n",
    "    max_length = 0\n",
    "    start = 0\n",
    "\n",
    "    def expand_around_center(left, right):\n",
    "        nonlocal max_length, start\n",
    "        while left >= 0 and right < n and string[left] == string[right]:\n",
    "            left -= 1\n",
    "            right += 1\n",
    "        current_length = right - left - 1\n",
    "        if current_length > max_length:\n",
    "            max_length = current_length\n",
    "            start = left + 1\n",
    "\n",
    "    for i in range(n):\n",
    "        expand_around_center(i, i)\n",
    "\n",
    "        expand_around_center(i, i + 1)\n",
    "\n",
    "    return string[start : start + max_length]\n",
    "\n",
    "my_string = \"babad\"\n",
    "result = longest_palindrome_substring(my_string)\n",
    "print(result)  \n",
    "\n",
    "my_string = \"cbbd\"\n",
    "result = longest_palindrome_substring(my_string)\n",
    "print(result)  \n",
    "\n"
   ]
  },
  {
   "cell_type": "code",
   "execution_count": 4,
   "id": "4ec06d1f",
   "metadata": {},
   "outputs": [
    {
     "name": "stdout",
     "output_type": "stream",
     "text": [
      "4\n"
     ]
    }
   ],
   "source": [
    "# 43. Write a program to find the number of occurrences of a given element in a list.\n",
    "\n",
    "def count_occurrences(lst, element):\n",
    "    count = 0\n",
    "    for item in lst:\n",
    "        if item == element:\n",
    "            count += 1\n",
    "    return count\n",
    "\n",
    "my_list = [1, 2, 3, 4, 2, 2, 3, 1, 2]\n",
    "element = 2\n",
    "occurrences = count_occurrences(my_list, element)\n",
    "print(occurrences)  "
   ]
  },
  {
   "cell_type": "code",
   "execution_count": 5,
   "id": "27d93c94",
   "metadata": {},
   "outputs": [
    {
     "name": "stdout",
     "output_type": "stream",
     "text": [
      "True\n",
      "False\n"
     ]
    }
   ],
   "source": [
    "# 44. Implement a function to check if a given number is a perfect number.\n",
    "\n",
    "def is_perfect_number(number):\n",
    "    if number <= 0:\n",
    "        return False\n",
    "\n",
    "    divisor_sum = 0\n",
    "    for i in range(1, number):\n",
    "        if number % i == 0:\n",
    "            divisor_sum += i\n",
    "\n",
    "    return divisor_sum == number\n",
    "\n",
    "my_number = 28\n",
    "result = is_perfect_number(my_number)\n",
    "print(result)\n",
    "\n",
    "my_number = 12\n",
    "result = is_perfect_number(my_number)\n",
    "print(result)  \n"
   ]
  },
  {
   "cell_type": "code",
   "execution_count": 6,
   "id": "70053eb5",
   "metadata": {},
   "outputs": [
    {
     "name": "stdout",
     "output_type": "stream",
     "text": [
      "Helo, Wrd!\n"
     ]
    }
   ],
   "source": [
    "# 45. Write a Python program to remove all duplicates from a string.\n",
    "\n",
    "def remove_duplicates(string):\n",
    "    unique_chars = []\n",
    "    result = \"\"\n",
    "    for char in string:\n",
    "        if char not in unique_chars:\n",
    "            unique_chars.append(char)\n",
    "            result += char\n",
    "    return result\n",
    "\n",
    "my_string = \"Hello, World!\"\n",
    "result = remove_duplicates(my_string)\n",
    "print(result)\n"
   ]
  },
  {
   "cell_type": "code",
   "execution_count": 7,
   "id": "040dace3",
   "metadata": {},
   "outputs": [
    {
     "name": "stdout",
     "output_type": "stream",
     "text": [
      "2\n",
      "3\n"
     ]
    }
   ],
   "source": [
    "# 46. Implement a function to find the first missing positive\n",
    "\n",
    "def find_first_missing_positive(nums):\n",
    "    n = len(nums)\n",
    "\n",
    "    for i in range(n):\n",
    "        while 1 <= nums[i] <= n and nums[i] != nums[nums[i] - 1]:\n",
    "            nums[nums[i] - 1], nums[i] = nums[i], nums[nums[i] - 1]\n",
    "\n",
    "    for i in range(n):\n",
    "        if nums[i] != i + 1:\n",
    "            return i + 1\n",
    "\n",
    "    return n + 1\n",
    "\n",
    "my_list = [3, 4, -1, 1]\n",
    "result = find_first_missing_positive(my_list)\n",
    "print(result) \n",
    "my_list = [1, 2, 0]\n",
    "\n",
    "result = find_first_missing_positive(my_list)\n",
    "print(result)  "
   ]
  },
  {
   "cell_type": "code",
   "execution_count": null,
   "id": "85ce8852",
   "metadata": {},
   "outputs": [],
   "source": []
  }
 ],
 "metadata": {
  "kernelspec": {
   "display_name": "Python 3 (ipykernel)",
   "language": "python",
   "name": "python3"
  },
  "language_info": {
   "codemirror_mode": {
    "name": "ipython",
    "version": 3
   },
   "file_extension": ".py",
   "mimetype": "text/x-python",
   "name": "python",
   "nbconvert_exporter": "python",
   "pygments_lexer": "ipython3",
   "version": "3.9.13"
  }
 },
 "nbformat": 4,
 "nbformat_minor": 5
}
